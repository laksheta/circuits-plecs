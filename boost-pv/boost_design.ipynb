{
 "cells": [
  {
   "cell_type": "markdown",
   "metadata": {},
   "source": [
    "# Specifications"
   ]
  },
  {
   "cell_type": "code",
   "execution_count": 9,
   "metadata": {},
   "outputs": [],
   "source": [
    "V_in_min = 180\n",
    "V_in_max = 380\n",
    "V_in = 350\n",
    "V_out = 700\n",
    "eff = 0.9\n",
    "fsw = 20e3\n",
    "V_in_rated = 350 #larger value will reduce the inductor current ripple\n",
    "P_rated = 2e3\n",
    "I_out = P_rated / V_out\n"
   ]
  },
  {
   "cell_type": "markdown",
   "metadata": {},
   "source": [
    "# Maximum Switch Current"
   ]
  },
  {
   "cell_type": "code",
   "execution_count": 4,
   "metadata": {},
   "outputs": [
    {
     "name": "stdout",
     "output_type": "stream",
     "text": [
      "0.7685714285714286\n"
     ]
    }
   ],
   "source": [
    "D = 1 - (V_in_min * eff)/V_out\n",
    "print(D)"
   ]
  },
  {
   "cell_type": "markdown",
   "metadata": {},
   "source": [
    "# Inductor Selection"
   ]
  },
  {
   "cell_type": "code",
   "execution_count": 12,
   "metadata": {},
   "outputs": [
    {
     "name": "stdout",
     "output_type": "stream",
     "text": [
      "1.142857142857143\n"
     ]
    }
   ],
   "source": [
    "delta_I_L = 0.2 * I_out * V_out/V_in\n",
    "\n",
    "print(delta_I_L)"
   ]
  },
  {
   "cell_type": "code",
   "execution_count": 13,
   "metadata": {},
   "outputs": [
    {
     "name": "stdout",
     "output_type": "stream",
     "text": [
      "0.007656249999999999\n"
     ]
    }
   ],
   "source": [
    "L = (V_in * (V_out - V_in))/(delta_I_L * fsw * V_out)\n",
    "\n",
    "print(L)"
   ]
  }
 ],
 "metadata": {
  "kernelspec": {
   "display_name": "base",
   "language": "python",
   "name": "python3"
  },
  "language_info": {
   "codemirror_mode": {
    "name": "ipython",
    "version": 3
   },
   "file_extension": ".py",
   "mimetype": "text/x-python",
   "name": "python",
   "nbconvert_exporter": "python",
   "pygments_lexer": "ipython3",
   "version": "3.11.5"
  }
 },
 "nbformat": 4,
 "nbformat_minor": 2
}
